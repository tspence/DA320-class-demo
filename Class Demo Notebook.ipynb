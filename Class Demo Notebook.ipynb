{
 "cells": [
  {
   "cell_type": "code",
   "execution_count": 1,
   "id": "4de6aa37-686f-4a0f-a474-29958b86bc89",
   "metadata": {},
   "outputs": [
    {
     "name": "stdout",
     "output_type": "stream",
     "text": [
      "Hello, world!\n"
     ]
    }
   ],
   "source": [
    "print(\"Hello, world!\")"
   ]
  },
  {
   "cell_type": "code",
   "execution_count": 2,
   "id": "4ca94844-e6d3-44a1-92b8-d60b17ee36e9",
   "metadata": {},
   "outputs": [
    {
     "name": "stdout",
     "output_type": "stream",
     "text": [
      "Done loading.\n"
     ]
    }
   ],
   "source": [
    "import json\n",
    "\n",
    "with open('f:\\\\git\\\\teds-secrets.json') as f:\n",
    "    data = json.load(f)\n",
    "    message = data['message']\n",
    "    print(\"Done loading.\")"
   ]
  },
  {
   "cell_type": "markdown",
   "id": "e7b1a41e-97db-4d68-a9cf-a474601d325a",
   "metadata": {},
   "source": [
    "Hi everyone!\n",
    "\n",
    "* Jupyter is fun\n",
    "* It's easier to understand than R\n",
    "* I can write fun text!\n",
    "\n",
    "It's a win for everyone."
   ]
  },
  {
   "cell_type": "code",
   "execution_count": 3,
   "id": "fc8ef5e7-891a-46a1-a4e8-96114aed18a5",
   "metadata": {},
   "outputs": [
    {
     "name": "stdout",
     "output_type": "stream",
     "text": [
      "200\n"
     ]
    }
   ],
   "source": [
    "\n",
    "import urllib3\n",
    "\n",
    "# I'm using this example code from https://zetcode.com/python/urllib3/\n",
    "http = urllib3.PoolManager()\n",
    "\n",
    "url = 'http://webcode.me'\n",
    "\n",
    "resp = http.request('GET', url)\n",
    "print(resp.status)"
   ]
  },
  {
   "cell_type": "markdown",
   "id": "fb4c775d-2ce7-48ec-af9d-48179d4f53b9",
   "metadata": {},
   "source": [
    "Here's an explanation of what I just did."
   ]
  },
  {
   "cell_type": "code",
   "execution_count": 4,
   "id": "f16a0117-48a2-4c4a-ae4f-a6a155c8f34e",
   "metadata": {},
   "outputs": [
    {
     "name": "stdout",
     "output_type": "stream",
     "text": [
      "<!DOCTYPE html>\n",
      "<html lang=\"en\">\n",
      "<head>\n",
      "    <meta charset=\"UTF-8\">\n",
      "    <meta name=\"viewport\" content=\"width=device-width, initial-scale=1.0\">\n",
      "    <title>My html page</title>\n",
      "</head>\n",
      "<body>\n",
      "\n",
      "    <p>\n",
      "        Today is a beautiful day. We go swimming and fishing.\n",
      "    </p>\n",
      "    \n",
      "    <p>\n",
      "         Hello there. How are you?\n",
      "    </p>\n",
      "    \n",
      "</body>\n",
      "</html>\n",
      "\n",
      "\n"
     ]
    }
   ],
   "source": [
    "print(resp.data.decode('utf-8'))"
   ]
  },
  {
   "cell_type": "code",
   "execution_count": null,
   "id": "7925f863-4bd7-4cc6-a8fe-f71a6a3b0c8f",
   "metadata": {},
   "outputs": [],
   "source": []
  }
 ],
 "metadata": {
  "kernelspec": {
   "display_name": "Python 3 (ipykernel)",
   "language": "python",
   "name": "python3"
  },
  "language_info": {
   "codemirror_mode": {
    "name": "ipython",
    "version": 3
   },
   "file_extension": ".py",
   "mimetype": "text/x-python",
   "name": "python",
   "nbconvert_exporter": "python",
   "pygments_lexer": "ipython3",
   "version": "3.7.4"
  }
 },
 "nbformat": 4,
 "nbformat_minor": 5
}
