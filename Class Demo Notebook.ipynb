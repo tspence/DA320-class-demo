{
 "cells": [
  {
   "cell_type": "code",
   "execution_count": 1,
   "id": "4de6aa37-686f-4a0f-a474-29958b86bc89",
   "metadata": {},
   "outputs": [
    {
     "name": "stdout",
     "output_type": "stream",
     "text": [
      "Hello, world!\n"
     ]
    }
   ],
   "source": [
    "print(\"Hello, world!\")"
   ]
  },
  {
   "cell_type": "code",
   "execution_count": 2,
   "id": "4ca94844-e6d3-44a1-92b8-d60b17ee36e9",
   "metadata": {},
   "outputs": [
    {
     "name": "stdout",
     "output_type": "stream",
     "text": [
      "Done loading.\n"
     ]
    }
   ],
   "source": [
    "import json\n",
    "\n",
    "with open('f:\\\\git\\\\teds-secrets.json') as f:\n",
    "    data = json.load(f)\n",
    "    message = data['message']\n",
    "    print(\"Done loading.\")"
   ]
  },
  {
   "cell_type": "markdown",
   "id": "e7b1a41e-97db-4d68-a9cf-a474601d325a",
   "metadata": {},
   "source": [
    "Hi everyone!\n",
    "\n",
    "* Jupyter is fun\n",
    "* It's easier to understand than R\n",
    "* I can write fun text!\n",
    "\n",
    "It's a win for everyone."
   ]
  },
  {
   "cell_type": "code",
   "execution_count": 8,
   "id": "fc8ef5e7-891a-46a1-a4e8-96114aed18a5",
   "metadata": {},
   "outputs": [
    {
     "name": "stdout",
     "output_type": "stream",
     "text": [
      "Fetched 348 characters from http://webcode.me (status: 200)\n"
     ]
    }
   ],
   "source": [
    "import urllib3\n",
    "\n",
    "# I'm using this example code from https://zetcode.com/python/urllib3/\n",
    "http = urllib3.PoolManager()\n",
    "\n",
    "url = 'http://webcode.me'\n",
    "\n",
    "resp = http.request('GET', url)\n",
    "webtext = resp.data.decode('utf-8')\n",
    "print(f\"Fetched {len(webtext)} characters from {url} (status: {resp.status})\")"
   ]
  },
  {
   "cell_type": "markdown",
   "id": "fb4c775d-2ce7-48ec-af9d-48179d4f53b9",
   "metadata": {},
   "source": [
    "Here's an explanation of what I just did."
   ]
  },
  {
   "cell_type": "code",
   "execution_count": 14,
   "id": "08d606a9-bece-41ad-b990-4069b9551475",
   "metadata": {},
   "outputs": [
    {
     "name": "stdout",
     "output_type": "stream",
     "text": [
      "Found 2 matches.  The first match is \n",
      "        Today is a beautiful day. We go swimming and fishing.\n",
      "    \n"
     ]
    }
   ],
   "source": [
    "import re\n",
    "\n",
    "x = re.findall(\"<p>([\\S\\s.]*?)<\\/p>\", webtext)\n",
    "print(f\"Found {len(x)} matches.  The first match is {x[0]}\")"
   ]
  },
  {
   "cell_type": "code",
   "execution_count": null,
   "id": "bae5b490-6f1c-460e-ba82-8fadafef7049",
   "metadata": {},
   "outputs": [],
   "source": []
  }
 ],
 "metadata": {
  "kernelspec": {
   "display_name": "Python 3 (ipykernel)",
   "language": "python",
   "name": "python3"
  },
  "language_info": {
   "codemirror_mode": {
    "name": "ipython",
    "version": 3
   },
   "file_extension": ".py",
   "mimetype": "text/x-python",
   "name": "python",
   "nbconvert_exporter": "python",
   "pygments_lexer": "ipython3",
   "version": "3.7.4"
  }
 },
 "nbformat": 4,
 "nbformat_minor": 5
}
