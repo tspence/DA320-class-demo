{
 "cells": [
  {
   "cell_type": "markdown",
   "id": "7a778117",
   "metadata": {},
   "source": [
    "## DA 320 \n",
    "\n",
    "| Key         | Value |\n",
    "| ----------- | ----------- |\n",
    "| Assignment  | Sample assignment  |\n",
    "| Author   | Ted Spence        |\n",
    "| Date   | 2022-10-13        |\n",
    "\n",
    "This is an example of a markdown header segment in a Jupyter notebook with a nice table."
   ]
  },
  {
   "cell_type": "code",
   "execution_count": 12,
   "id": "4de6aa37-686f-4a0f-a474-29958b86bc89",
   "metadata": {},
   "outputs": [
    {
     "name": "stdout",
     "output_type": "stream",
     "text": [
      "Hello, world!\n"
     ]
    }
   ],
   "source": [
    "# A basic Python command you can use to verify that Python is running correctly\n",
    "print(\"Hello, world!\")"
   ]
  },
  {
   "cell_type": "markdown",
   "id": "8fce08a0",
   "metadata": {},
   "source": [
    "The next code segment demonstrates how you can use `pip install` within a notebook.\n",
    "\n",
    "Note that if you have *any* python code at all in the same segment with the `pip install` command, it won't work!"
   ]
  },
  {
   "cell_type": "code",
   "execution_count": 13,
   "id": "0a2f2628",
   "metadata": {},
   "outputs": [
    {
     "name": "stdout",
     "output_type": "stream",
     "text": [
      "Requirement already satisfied: urllib3 in c:\\users\\ted\\appdata\\local\\programs\\python\\python310\\lib\\site-packages (1.26.9)\n",
      "\n",
      "[notice] A new release of pip available: 22.1.2 -> 22.2.2\n",
      "[notice] To update, run: python.exe -m pip install --upgrade pip\n",
      "Note: you may need to restart the kernel to use updated packages.\n"
     ]
    }
   ],
   "source": [
    "pip install urllib3"
   ]
  },
  {
   "cell_type": "code",
   "execution_count": 14,
   "id": "4ca94844-e6d3-44a1-92b8-d60b17ee36e9",
   "metadata": {},
   "outputs": [
    {
     "name": "stdout",
     "output_type": "stream",
     "text": [
      "My secret key is 56 characters in length.\n"
     ]
    }
   ],
   "source": [
    "import json\n",
    "\n",
    "# Demonstration of how to load a file that contains secrets without accidentally leaking those secrets\n",
    "with open('f:\\\\git\\\\teds-secrets.json') as f:\n",
    "    data = json.load(f)\n",
    "\n",
    "    # If you want your data to be secure, don't print this variable out!\n",
    "    # Jupyter will retain a cached version of any printed data and it can be\n",
    "    # accidentally committed to version control.\n",
    "    secret_key = data['my-secret-key']\n",
    "\n",
    "# We can safely print the length of the secret key. That won't leak any sensitive information.\n",
    "print(f\"My secret key is {len(secret_key)} characters in length.\")"
   ]
  },
  {
   "cell_type": "code",
   "execution_count": 15,
   "id": "fc8ef5e7-891a-46a1-a4e8-96114aed18a5",
   "metadata": {},
   "outputs": [
    {
     "name": "stdout",
     "output_type": "stream",
     "text": [
      "Fetched 73183 characters from https://www.wikipedia.org/ (status: 200)\n"
     ]
    }
   ],
   "source": [
    "import urllib3\n",
    "import certifi\n",
    "\n",
    "# Demonstration of how to fetch text from a website using certifi, urllib3, and UTF-8 encoding.\n",
    "# This also simulates a browser agent.\n",
    "# Adapted from https://tedspence.com/teaching-python-and-jupyter-cbffb68e2194\n",
    "\n",
    "# This line of code generates a pool for HTTP requests.  Pooling means that a second request to the same\n",
    "# website will be faster than the first one since it will retain an open connection for a period of time.\n",
    "http = urllib3.PoolManager(ca_certs=certifi.where())\n",
    "\n",
    "# These lines of code choose which website we will fetch and which browser we will simulate.\n",
    "url = 'https://www.wikipedia.org/'\n",
    "user_agent = \"Mozilla/5.0 (Windows NT 10.0; Win64; x64; rv:105.0) Gecko/20100101 Firefox/105.0\"\n",
    "\n",
    "# This instruction requests the contents of the page and decodes it using UTF-8, the standard text\n",
    "# encoding model for the Internet today.\n",
    "response = http.request('GET', url, headers={\"User-Agent\": user_agent})\n",
    "page_content = response.data.decode('utf-8')\n",
    "\n",
    "# Print out what we achieved!\n",
    "print(f\"Fetched {len(page_content)} characters from {url} (status: {response.status})\")"
   ]
  },
  {
   "cell_type": "code",
   "execution_count": 16,
   "id": "08d606a9-bece-41ad-b990-4069b9551475",
   "metadata": {},
   "outputs": [
    {
     "name": "stdout",
     "output_type": "stream",
     "text": [
      "Found 9 matches.  The first match is 'articles'.\n"
     ]
    }
   ],
   "source": [
    "import re\n",
    "\n",
    "# Demonstration of how to search and find matches within a page\n",
    "matches = re.findall(r\"<span>(.*)</span>\", page_content)\n",
    "print(f\"Found {len(matches)} matches.  The first match is '{matches[0]}'.\")"
   ]
  },
  {
   "cell_type": "code",
   "execution_count": null,
   "id": "bae5b490-6f1c-460e-ba82-8fadafef7049",
   "metadata": {},
   "outputs": [],
   "source": []
  }
 ],
 "metadata": {
  "kernelspec": {
   "display_name": "Python 3.10.3 64-bit",
   "language": "python",
   "name": "python3"
  },
  "language_info": {
   "codemirror_mode": {
    "name": "ipython",
    "version": 3
   },
   "file_extension": ".py",
   "mimetype": "text/x-python",
   "name": "python",
   "nbconvert_exporter": "python",
   "pygments_lexer": "ipython3",
   "version": "3.10.3"
  },
  "vscode": {
   "interpreter": {
    "hash": "054b8a8ab1859522654f24f6469821b8b13c4a0fd8db908465293addbf3bdc9b"
   }
  }
 },
 "nbformat": 4,
 "nbformat_minor": 5
}
