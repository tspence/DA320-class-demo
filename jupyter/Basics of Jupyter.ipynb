{
 "cells": [
  {
   "cell_type": "markdown",
   "metadata": {},
   "source": [
    "## DA 320 \n",
    "\n",
    "| Key         | Value |\n",
    "| ----------- | ----------- |\n",
    "| Assignment  | Basics of Jupyter  |\n",
    "| Author   | Ted Spence        |\n",
    "| Date   | 2022-10-15        |\n",
    "\n",
    "This example notebook contains tutorials on the basics of Jupyter.\n",
    "\n",
    "You can use the header markdown segment of this page as an example of markdown tables."
   ]
  },
  {
   "cell_type": "markdown",
   "metadata": {},
   "source": [
    "***\n",
    "# Check whether Jupyter and Python are installed correctly\n",
    "***"
   ]
  },
  {
   "cell_type": "code",
   "execution_count": 1,
   "metadata": {},
   "outputs": [
    {
     "name": "stdout",
     "output_type": "stream",
     "text": [
      "Hello, world!\n"
     ]
    }
   ],
   "source": [
    "# A basic Python command you can use to verify that Python is running correctly\n",
    "print(\"Hello, world!\")"
   ]
  },
  {
   "cell_type": "markdown",
   "metadata": {},
   "source": [
    "***\n",
    "# Use \"Pip Install\" within a Jupyter Notebook\n",
    "***\n",
    "\n",
    "The next code segment demonstrates how you can use `pip install` within a notebook.\n",
    "\n",
    "Note that if you have *any* python code at all in the same segment with the `pip install` command, it won't work!"
   ]
  },
  {
   "cell_type": "code",
   "execution_count": 2,
   "metadata": {},
   "outputs": [
    {
     "name": "stdout",
     "output_type": "stream",
     "text": [
      "Requirement already satisfied: urllib3 in c:\\users\\ted\\appdata\\local\\programs\\python\\python310\\lib\\site-packages (1.26.9)\n",
      "\n",
      "[notice] A new release of pip available: 22.1.2 -> 22.2.2\n",
      "[notice] To update, run: python.exe -m pip install --upgrade pip\n",
      "Note: you may need to restart the kernel to use updated packages.\n"
     ]
    }
   ],
   "source": [
    "pip install urllib3"
   ]
  },
  {
   "cell_type": "code",
   "execution_count": 1,
   "metadata": {},
   "outputs": [
    {
     "name": "stdout",
     "output_type": "stream",
     "text": [
      "Requirement already satisfied: certifi in c:\\users\\ted\\appdata\\local\\programs\\python\\python310\\lib\\site-packages (2022.12.7)\n",
      "Note: you may need to restart the kernel to use updated packages.\n"
     ]
    },
    {
     "name": "stderr",
     "output_type": "stream",
     "text": [
      "\n",
      "[notice] A new release of pip is available: 23.0.1 -> 23.1.2\n",
      "[notice] To update, run: python.exe -m pip install --upgrade pip\n"
     ]
    },
    {
     "name": "stdout",
     "output_type": "stream",
     "text": [
      "Requirement already satisfied: pandas in c:\\users\\ted\\appdata\\local\\programs\\python\\python310\\lib\\site-packages (2.0.1)\n",
      "Requirement already satisfied: python-dateutil>=2.8.2 in c:\\users\\ted\\appdata\\roaming\\python\\python310\\site-packages (from pandas) (2.8.2)\n",
      "Requirement already satisfied: tzdata>=2022.1 in c:\\users\\ted\\appdata\\local\\programs\\python\\python310\\lib\\site-packages (from pandas) (2023.3)\n",
      "Requirement already satisfied: pytz>=2020.1 in c:\\users\\ted\\appdata\\local\\programs\\python\\python310\\lib\\site-packages (from pandas) (2023.3)\n",
      "Requirement already satisfied: numpy>=1.21.0 in c:\\users\\ted\\appdata\\local\\programs\\python\\python310\\lib\\site-packages (from pandas) (1.23.5)\n",
      "Requirement already satisfied: six>=1.5 in c:\\users\\ted\\appdata\\roaming\\python\\python310\\site-packages (from python-dateutil>=2.8.2->pandas) (1.16.0)\n",
      "Note: you may need to restart the kernel to use updated packages.\n"
     ]
    },
    {
     "name": "stderr",
     "output_type": "stream",
     "text": [
      "\n",
      "[notice] A new release of pip is available: 23.0.1 -> 23.1.2\n",
      "[notice] To update, run: python.exe -m pip install --upgrade pip\n"
     ]
    }
   ],
   "source": [
    "# This code block demonstrates how to install multiple libraries at once using the % symbol\n",
    "%pip install certifi\n",
    "%pip install pandas"
   ]
  },
  {
   "attachments": {},
   "cell_type": "markdown",
   "metadata": {},
   "source": [
    "***\n",
    "# What happens if you finish \"Pip Install\" and the library still can't be found?\n",
    "***\n",
    "\n",
    "Full article: https://tedspence.com/why-am-i-having-trouble-adding-a-python-library-with-pip-install-6e393690ac19\n",
    "\n",
    "The Interactive Python Kernel (ipy) is the program that runs Jupyter code.  If you are using Visual Studio Code, you will have an icon on the top right hand corner of your Jupyter notebook that tells you which Python kernel you are using.  As I write this, my notebook is using Python 3.10.11.\n",
    "\n",
    "If you install a library into Python using pip, and your Jupyter still says that it cannot find that library, there are a few things to check:\n",
    "* Did you actually install the library successfully?  If you received error messages after typing `pip install <library>`, it may not have installed correctly.  Try going back and running it again.\n",
    "* Do you need to restart your Jupyter kernel?  In Visual Studio Code, there is a \"Restart\" button at the top bar of the screen.  Click that and see if that fixes the issue.\n",
    "* Do you need to relaunch Visual Studio Code?  In most cases, restarting your kernel will fix it.  But if you restart your kernel and that does not solve it, try closing ALL Visual Studio Code windows and then relaunching.\n",
    "\n",
    "The most complicated problem is a Python Version Mismatch.  A computer can have multiple versions of Python installed.  When you run `pip install <library>`, you are only installing that library into one version of Python.  Here's how to check if you are installing the library into the right version of Python.\n",
    "1. Look in the top right hand corner of your Visual Studio Code screen.  It will tell you which version of Python you are running, for example, mine is 3.10.11.\n",
    "2. Next, run the command `pip --version`.  It will tell you which version of Python you are installing a library onto when you use pip.  For example, my pip says `pip 23.0.1 from C:\\Users\\ted\\AppData\\Local\\Programs\\Python\\Python310\\lib\\site-packages\\pip (python 3.10)`.  This text tells me that pip is using  \"Python 3.10\", and my Visual Studio Code is 3.10.11, so the library will install successfully.\n",
    "3. If your two numbers mismatch, you need to fix it by uninstalling the conflicting versions of python and then rebooting your computer."
   ]
  }
 ],
 "metadata": {
  "kernelspec": {
   "display_name": "Python 3.10.3 64-bit",
   "language": "python",
   "name": "python3"
  },
  "language_info": {
   "codemirror_mode": {
    "name": "ipython",
    "version": 3
   },
   "file_extension": ".py",
   "mimetype": "text/x-python",
   "name": "python",
   "nbconvert_exporter": "python",
   "pygments_lexer": "ipython3",
   "version": "3.10.11"
  },
  "orig_nbformat": 4,
  "vscode": {
   "interpreter": {
    "hash": "054b8a8ab1859522654f24f6469821b8b13c4a0fd8db908465293addbf3bdc9b"
   }
  }
 },
 "nbformat": 4,
 "nbformat_minor": 2
}
