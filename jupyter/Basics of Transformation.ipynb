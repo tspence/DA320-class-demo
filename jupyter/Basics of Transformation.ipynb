{
 "cells": [
  {
   "attachments": {},
   "cell_type": "markdown",
   "metadata": {},
   "source": [
    "## DA 320 \n",
    "\n",
    "| Key         | Value |\n",
    "| ----------- | ----------- |\n",
    "| Assignment  | Basics of Transformation |\n",
    "| Author   | Ted Spence        |\n",
    "| Date   | 2023-05-20        |\n",
    "\n",
    "This example notebook contains tutorials on how to transform data in Pandas.\n",
    "\n",
    "You can use the header markdown segment of this page as an example of markdown tables."
   ]
  },
  {
   "attachments": {},
   "cell_type": "markdown",
   "metadata": {},
   "source": [
    "***\n",
    "# Adding a new column using Pandas transformation\n",
    "***\n",
    "\n",
    "In this example, we take a small Pandas dataframe with numbers and dates stored as strings, and we convert them to numbers and dates using a built-in transformation function."
   ]
  },
  {
   "cell_type": "code",
   "execution_count": 6,
   "metadata": {},
   "outputs": [
    {
     "data": {
      "text/html": [
       "<div>\n",
       "<style scoped>\n",
       "    .dataframe tbody tr th:only-of-type {\n",
       "        vertical-align: middle;\n",
       "    }\n",
       "\n",
       "    .dataframe tbody tr th {\n",
       "        vertical-align: top;\n",
       "    }\n",
       "\n",
       "    .dataframe thead th {\n",
       "        text-align: right;\n",
       "    }\n",
       "</style>\n",
       "<table border=\"1\" class=\"dataframe\">\n",
       "  <thead>\n",
       "    <tr style=\"text-align: right;\">\n",
       "      <th></th>\n",
       "      <th>dates</th>\n",
       "      <th>date_strings</th>\n",
       "      <th>scores</th>\n",
       "      <th>score_strings</th>\n",
       "    </tr>\n",
       "  </thead>\n",
       "  <tbody>\n",
       "    <tr>\n",
       "      <th>0</th>\n",
       "      <td>2022-10-01</td>\n",
       "      <td>2022-10-01</td>\n",
       "      <td>57</td>\n",
       "      <td>57</td>\n",
       "    </tr>\n",
       "    <tr>\n",
       "      <th>1</th>\n",
       "      <td>2022-10-02</td>\n",
       "      <td>2022-10-02</td>\n",
       "      <td>68</td>\n",
       "      <td>68</td>\n",
       "    </tr>\n",
       "    <tr>\n",
       "      <th>2</th>\n",
       "      <td>2022-10-03</td>\n",
       "      <td>2022-10-03</td>\n",
       "      <td>22</td>\n",
       "      <td>22</td>\n",
       "    </tr>\n",
       "  </tbody>\n",
       "</table>\n",
       "</div>"
      ],
      "text/plain": [
       "       dates date_strings  scores score_strings\n",
       "0 2022-10-01   2022-10-01      57            57\n",
       "1 2022-10-02   2022-10-02      68            68\n",
       "2 2022-10-03   2022-10-03      22            22"
      ]
     },
     "execution_count": 6,
     "metadata": {},
     "output_type": "execute_result"
    }
   ],
   "source": [
    "import pandas\n",
    "\n",
    "# Create a raw data set and print it out\n",
    "df = pandas.DataFrame({\n",
    "    \"date_strings\": [\"2022-10-01\", \"2022-10-02\", \"2022-10-03\"],\n",
    "    \"score_strings\": [\"57\", \"68\", \"22\"],\n",
    "})\n",
    "\n",
    "# Transform and standardize the columns\n",
    "df.insert(0, \"dates\", pandas.to_datetime(df.date_strings, errors='coerce'))\n",
    "df.insert(2, \"scores\", pandas.to_numeric(df.score_strings, errors='coerce'))\n",
    "\n",
    "# Print out the transformed dataset - since this is bring printed as strings, you won't see much difference, but the new values are now numeric and date-time.\n",
    "df.head()"
   ]
  },
  {
   "attachments": {},
   "cell_type": "markdown",
   "metadata": {},
   "source": [
    "***\n",
    "# Adding a new column using lambdas\n",
    "***\n",
    "\n",
    "This time we'll construct a function (called a lambda) and apply it across all rows in the data set.  The function will create a new column."
   ]
  },
  {
   "cell_type": "code",
   "execution_count": 11,
   "metadata": {},
   "outputs": [
    {
     "data": {
      "text/html": [
       "<div>\n",
       "<style scoped>\n",
       "    .dataframe tbody tr th:only-of-type {\n",
       "        vertical-align: middle;\n",
       "    }\n",
       "\n",
       "    .dataframe tbody tr th {\n",
       "        vertical-align: top;\n",
       "    }\n",
       "\n",
       "    .dataframe thead th {\n",
       "        text-align: right;\n",
       "    }\n",
       "</style>\n",
       "<table border=\"1\" class=\"dataframe\">\n",
       "  <thead>\n",
       "    <tr style=\"text-align: right;\">\n",
       "      <th></th>\n",
       "      <th>total_scores</th>\n",
       "      <th>team1_score</th>\n",
       "      <th>team2_score</th>\n",
       "    </tr>\n",
       "  </thead>\n",
       "  <tbody>\n",
       "    <tr>\n",
       "      <th>0</th>\n",
       "      <td>10</td>\n",
       "      <td>6</td>\n",
       "      <td>4</td>\n",
       "    </tr>\n",
       "    <tr>\n",
       "      <th>1</th>\n",
       "      <td>4</td>\n",
       "      <td>4</td>\n",
       "      <td>0</td>\n",
       "    </tr>\n",
       "    <tr>\n",
       "      <th>2</th>\n",
       "      <td>11</td>\n",
       "      <td>3</td>\n",
       "      <td>8</td>\n",
       "    </tr>\n",
       "  </tbody>\n",
       "</table>\n",
       "</div>"
      ],
      "text/plain": [
       "   total_scores  team1_score  team2_score\n",
       "0            10            6            4\n",
       "1             4            4            0\n",
       "2            11            3            8"
      ]
     },
     "execution_count": 11,
     "metadata": {},
     "output_type": "execute_result"
    }
   ],
   "source": [
    "# Create a raw data set and print it out\n",
    "df = pandas.DataFrame({\n",
    "    \"team1_score\": [6, 4, 3],\n",
    "    \"team2_score\": [4, 0, 8],\n",
    "})\n",
    "\n",
    "# Transform and standardize the columns. Note that \"axis = 1\" must be specified to have it run by columns\n",
    "df.insert(0, \"total_scores\", df.apply(lambda row : row[\"team1_score\"] + row[\"team2_score\"], axis = 1))\n",
    "\n",
    "# Print out the transformed dataset - since this is bring printed as strings, you won't see much difference, but the new values are now numeric and date-time.\n",
    "df.head()"
   ]
  },
  {
   "attachments": {},
   "cell_type": "markdown",
   "metadata": {},
   "source": [
    "***\n",
    "# Merge two dataframes based on key field\n",
    "***\n",
    "\n",
    "In this example we'll take two different dataframes that have some overlap and merge them together.  When matches don't exist, we will allow the fields to be null."
   ]
  },
  {
   "cell_type": "code",
   "execution_count": 15,
   "metadata": {},
   "outputs": [
    {
     "data": {
      "text/html": [
       "<div>\n",
       "<style scoped>\n",
       "    .dataframe tbody tr th:only-of-type {\n",
       "        vertical-align: middle;\n",
       "    }\n",
       "\n",
       "    .dataframe tbody tr th {\n",
       "        vertical-align: top;\n",
       "    }\n",
       "\n",
       "    .dataframe thead th {\n",
       "        text-align: right;\n",
       "    }\n",
       "</style>\n",
       "<table border=\"1\" class=\"dataframe\">\n",
       "  <thead>\n",
       "    <tr style=\"text-align: right;\">\n",
       "      <th></th>\n",
       "      <th>name</th>\n",
       "      <th>city</th>\n",
       "      <th>email</th>\n",
       "    </tr>\n",
       "  </thead>\n",
       "  <tbody>\n",
       "    <tr>\n",
       "      <th>0</th>\n",
       "      <td>Alice</td>\n",
       "      <td>Arcadia</td>\n",
       "      <td>NaN</td>\n",
       "    </tr>\n",
       "    <tr>\n",
       "      <th>1</th>\n",
       "      <td>Bob</td>\n",
       "      <td>Bellevue</td>\n",
       "      <td>bob@example.com</td>\n",
       "    </tr>\n",
       "    <tr>\n",
       "      <th>2</th>\n",
       "      <td>Charlie</td>\n",
       "      <td>Chicago</td>\n",
       "      <td>charlie@example.com</td>\n",
       "    </tr>\n",
       "    <tr>\n",
       "      <th>3</th>\n",
       "      <td>David</td>\n",
       "      <td>NaN</td>\n",
       "      <td>david@example.com</td>\n",
       "    </tr>\n",
       "  </tbody>\n",
       "</table>\n",
       "</div>"
      ],
      "text/plain": [
       "      name      city                email\n",
       "0    Alice   Arcadia                  NaN\n",
       "1      Bob  Bellevue      bob@example.com\n",
       "2  Charlie   Chicago  charlie@example.com\n",
       "3    David       NaN    david@example.com"
      ]
     },
     "execution_count": 15,
     "metadata": {},
     "output_type": "execute_result"
    }
   ],
   "source": [
    "# Create a raw data set and print it out\n",
    "cities = pandas.DataFrame({\n",
    "    \"name\": [\"Alice\", \"Bob\", \"Charlie\"],\n",
    "    \"city\": [\"Arcadia\", \"Bellevue\", \"Chicago\"],\n",
    "})\n",
    "emails = pandas.DataFrame({\n",
    "    \"name\": [\"Bob\", \"Charlie\", \"David\"],\n",
    "    \"email\": [\"bob@example.com\", \"charlie@example.com\", \"david@example.com\"],\n",
    "})\n",
    "\n",
    "# Transform and standardize the columns. Note that \"axis = 1\" must be specified to have it run by columns\n",
    "merged = cities.merge(emails, how=\"outer\", on=\"name\")\n",
    "merged.head()\n"
   ]
  },
  {
   "attachments": {},
   "cell_type": "markdown",
   "metadata": {},
   "source": [
    "***\n",
    "# Filtering to a subset of data\n",
    "***\n",
    "\n",
    "Filter a Pandas dataset to a smaller amount of data."
   ]
  },
  {
   "cell_type": "code",
   "execution_count": 1,
   "metadata": {},
   "outputs": [
    {
     "data": {
      "text/html": [
       "<div>\n",
       "<style scoped>\n",
       "    .dataframe tbody tr th:only-of-type {\n",
       "        vertical-align: middle;\n",
       "    }\n",
       "\n",
       "    .dataframe tbody tr th {\n",
       "        vertical-align: top;\n",
       "    }\n",
       "\n",
       "    .dataframe thead th {\n",
       "        text-align: right;\n",
       "    }\n",
       "</style>\n",
       "<table border=\"1\" class=\"dataframe\">\n",
       "  <thead>\n",
       "    <tr style=\"text-align: right;\">\n",
       "      <th></th>\n",
       "      <th>hire_dates</th>\n",
       "      <th>names</th>\n",
       "      <th>hire_year</th>\n",
       "    </tr>\n",
       "  </thead>\n",
       "  <tbody>\n",
       "    <tr>\n",
       "      <th>0</th>\n",
       "      <td>1993-06-12</td>\n",
       "      <td>Alice</td>\n",
       "      <td>1993</td>\n",
       "    </tr>\n",
       "    <tr>\n",
       "      <th>1</th>\n",
       "      <td>1993-03-22</td>\n",
       "      <td>Bob</td>\n",
       "      <td>1993</td>\n",
       "    </tr>\n",
       "    <tr>\n",
       "      <th>2</th>\n",
       "      <td>1993-07-15</td>\n",
       "      <td>Charlie</td>\n",
       "      <td>1993</td>\n",
       "    </tr>\n",
       "    <tr>\n",
       "      <th>3</th>\n",
       "      <td>1993-11-14</td>\n",
       "      <td>Dennis</td>\n",
       "      <td>1993</td>\n",
       "    </tr>\n",
       "  </tbody>\n",
       "</table>\n",
       "</div>"
      ],
      "text/plain": [
       "  hire_dates    names  hire_year\n",
       "0 1993-06-12    Alice       1993\n",
       "1 1993-03-22      Bob       1993\n",
       "2 1993-07-15  Charlie       1993\n",
       "3 1993-11-14   Dennis       1993"
      ]
     },
     "execution_count": 1,
     "metadata": {},
     "output_type": "execute_result"
    }
   ],
   "source": [
    "import pandas\n",
    "\n",
    "# A bunch of numbers in a Pandas dataframe\n",
    "employees = pandas.DataFrame({\n",
    "    \"hire_dates\": [\"1993-06-12\", \"1993-03-22\", \"1993-07-15\", \"1993-11-14\", \"1995-09-09\", \"1995-10-09\", \"1995-12-31\", \"1996-12-02\"],\n",
    "    \"names\": [\"Alice\", \"Bob\", \"Charlie\", \"Dennis\", \"Elaine\", \"Frankie\", \"Grace\", \"Howard\"],\n",
    "})\n",
    "\n",
    "# Extract the years from the pandas dataframe\n",
    "employees[\"hire_dates\"] = pandas.to_datetime(employees.hire_dates, errors='coerce')\n",
    "employees[\"hire_year\"] = employees[\"hire_dates\"].dt.year\n",
    "subset = employees[employees[\"hire_year\"] == 1993]\n",
    "subset.head()\n"
   ]
  }
 ],
 "metadata": {
  "kernelspec": {
   "display_name": "Python 3",
   "language": "python",
   "name": "python3"
  },
  "language_info": {
   "codemirror_mode": {
    "name": "ipython",
    "version": 3
   },
   "file_extension": ".py",
   "mimetype": "text/x-python",
   "name": "python",
   "nbconvert_exporter": "python",
   "pygments_lexer": "ipython3",
   "version": "3.11.0"
  },
  "orig_nbformat": 4
 },
 "nbformat": 4,
 "nbformat_minor": 2
}
