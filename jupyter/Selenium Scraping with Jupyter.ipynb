{
 "cells": [
  {
   "cell_type": "markdown",
   "metadata": {},
   "source": [
    "## DA 320 \n",
    "\n",
    "| Key         | Value |\n",
    "| ----------- | ----------- |\n",
    "| Topic  | Selenium Scraping with Jupyter  |\n",
    "| Author   | Ted Spence        |\n",
    "| Date   | 2024-09-28        |\n",
    "\n",
    "This example notebook contains a brief tutorial on scraping web pages with Selenium within Jupyter.\n",
    "\n",
    "When using Selenium, you must remember that you are simulating a full web browser. Some web pages may trigger lots of javascript actions and examining things may slow down processing.\n",
    "\n",
    "Some web pages will defer rendering of elements until the user has visited a specific portion of the page.  You may need to use scrolling in order to move the viewport to an element before it will be fully rendered."
   ]
  },
  {
   "cell_type": "markdown",
   "metadata": {},
   "source": [
    "***\n",
    "# Constructing a Selenium instance and fetching a page\n",
    "***\n",
    "\n",
    "In this example, we will install the necessary dependencies, then retrieve the source HTML of a web page using selenium."
   ]
  },
  {
   "cell_type": "code",
   "execution_count": 1,
   "metadata": {},
   "outputs": [
    {
     "name": "stdout",
     "output_type": "stream",
     "text": [
      "Note: you may need to restart the kernel to use updated packages.\n"
     ]
    },
    {
     "name": "stderr",
     "output_type": "stream",
     "text": [
      "\n",
      "[notice] A new release of pip is available: 23.1.2 -> 24.2\n",
      "[notice] To update, run: python.exe -m pip install --upgrade pip\n"
     ]
    },
    {
     "name": "stdout",
     "output_type": "stream",
     "text": [
      "Requirement already satisfied: selenium in c:\\users\\ted\\appdata\\local\\programs\\python\\python311\\lib\\site-packages (4.25.0)\n",
      "Requirement already satisfied: urllib3[socks]<3,>=1.26 in c:\\users\\ted\\appdata\\local\\programs\\python\\python311\\lib\\site-packages (from selenium) (1.26.12)\n",
      "Requirement already satisfied: trio~=0.17 in c:\\users\\ted\\appdata\\local\\programs\\python\\python311\\lib\\site-packages (from selenium) (0.26.2)\n",
      "Requirement already satisfied: trio-websocket~=0.9 in c:\\users\\ted\\appdata\\local\\programs\\python\\python311\\lib\\site-packages (from selenium) (0.11.1)\n",
      "Requirement already satisfied: certifi>=2021.10.8 in c:\\users\\ted\\appdata\\local\\programs\\python\\python311\\lib\\site-packages (from selenium) (2022.9.24)\n",
      "Requirement already satisfied: typing_extensions~=4.9 in c:\\users\\ted\\appdata\\local\\programs\\python\\python311\\lib\\site-packages (from selenium) (4.11.0)\n",
      "Requirement already satisfied: websocket-client~=1.8 in c:\\users\\ted\\appdata\\local\\programs\\python\\python311\\lib\\site-packages (from selenium) (1.8.0)\n",
      "Requirement already satisfied: attrs>=23.2.0 in c:\\users\\ted\\appdata\\local\\programs\\python\\python311\\lib\\site-packages (from trio~=0.17->selenium) (24.2.0)\n",
      "Requirement already satisfied: sortedcontainers in c:\\users\\ted\\appdata\\local\\programs\\python\\python311\\lib\\site-packages (from trio~=0.17->selenium) (2.4.0)\n",
      "Requirement already satisfied: idna in c:\\users\\ted\\appdata\\local\\programs\\python\\python311\\lib\\site-packages (from trio~=0.17->selenium) (3.4)\n",
      "Requirement already satisfied: outcome in c:\\users\\ted\\appdata\\local\\programs\\python\\python311\\lib\\site-packages (from trio~=0.17->selenium) (1.3.0.post0)\n",
      "Requirement already satisfied: sniffio>=1.3.0 in c:\\users\\ted\\appdata\\local\\programs\\python\\python311\\lib\\site-packages (from trio~=0.17->selenium) (1.3.0)\n",
      "Requirement already satisfied: cffi>=1.14 in c:\\users\\ted\\appdata\\local\\programs\\python\\python311\\lib\\site-packages (from trio~=0.17->selenium) (1.15.1)\n",
      "Requirement already satisfied: wsproto>=0.14 in c:\\users\\ted\\appdata\\local\\programs\\python\\python311\\lib\\site-packages (from trio-websocket~=0.9->selenium) (1.2.0)\n",
      "Requirement already satisfied: PySocks!=1.5.7,<2.0,>=1.5.6 in c:\\users\\ted\\appdata\\local\\programs\\python\\python311\\lib\\site-packages (from urllib3[socks]<3,>=1.26->selenium) (1.7.1)\n",
      "Requirement already satisfied: pycparser in c:\\users\\ted\\appdata\\local\\programs\\python\\python311\\lib\\site-packages (from cffi>=1.14->trio~=0.17->selenium) (2.21)\n",
      "Requirement already satisfied: h11<1,>=0.9.0 in c:\\users\\ted\\appdata\\local\\programs\\python\\python311\\lib\\site-packages (from wsproto>=0.14->trio-websocket~=0.9->selenium) (0.14.0)\n"
     ]
    }
   ],
   "source": [
    "%pip install selenium"
   ]
  },
  {
   "cell_type": "code",
   "execution_count": 3,
   "metadata": {},
   "outputs": [
    {
     "name": "stdout",
     "output_type": "stream",
     "text": [
      "Fetched 737275 characters from https://en.wikipedia.org/wiki/List_of_English_monarchs.\n"
     ]
    }
   ],
   "source": [
    "from selenium import webdriver\n",
    "from selenium.webdriver.common.by import By\n",
    "\n",
    "# Figure out what year of data we will collect\n",
    "link = f\"https://en.wikipedia.org/wiki/List_of_English_monarchs\"\n",
    "\n",
    "# Construct a selenium engine to retrieve this page\n",
    "driver = webdriver.Chrome()\n",
    "driver.get(link)\n",
    "\n",
    "# Retrieve the HTML source of the page for regular expressions\n",
    "datastring = driver.page_source\n",
    "driver.quit()\n",
    "print(f\"Fetched {len(datastring)} characters from {link}.\")"
   ]
  },
  {
   "cell_type": "markdown",
   "metadata": {},
   "source": [
    "***\n",
    "# Finding elements within a webpage using Selenium\n",
    "***\n",
    "\n",
    "In this example, we will fetch a webpage and break down all the headings on the page using find_elements.\n",
    "\n",
    "Since we often need to experiment with our find_elements calls, I will break up the code blocks into three segments: \n",
    "* Fetching the web page\n",
    "* Searching for the elements\n",
    "* Closing the web page\n",
    "\n",
    "Because of this, I can run the first code block once, then keep running the second code block over and over until I find the correct search pattern."
   ]
  },
  {
   "cell_type": "code",
   "execution_count": 4,
   "metadata": {},
   "outputs": [],
   "source": [
    "from selenium import webdriver\n",
    "from selenium.webdriver.common.by import By\n",
    "\n",
    "# Figure out what year of data we will collect\n",
    "link = f\"https://en.wikipedia.org/wiki/List_of_English_monarchs\"\n",
    "\n",
    "# Construct a selenium engine to retrieve this page\n",
    "driver = webdriver.Chrome()\n",
    "driver.get(link)\n",
    "\n",
    "# Note that this first code block leaves the driver open, so I can re-run the second code block over and over!"
   ]
  },
  {
   "cell_type": "code",
   "execution_count": 7,
   "metadata": {},
   "outputs": [
    {
     "name": "stdout",
     "output_type": "stream",
     "text": [
      "House of Wessex (886–1013)[edit]\n",
      "Disputed claimant[edit]\n",
      "House of Denmark (1013–1014)[edit]\n",
      "House of Wessex (restored, first time) (1014–1016)[edit]\n",
      "House of Denmark (restored) (1016–1042)[edit]\n",
      "House of Wessex (restored, second time) (1042–1066)[edit]\n",
      "House of Godwin (1066)[edit]\n",
      "Disputed claimant (House of Wessex)[edit]\n",
      "House of Normandy (1066–1135)[edit]\n",
      "House of Blois (1135–1154)[edit]\n",
      "Disputed claimants[edit]\n",
      "House of Plantagenet (1154–1485)[edit]\n",
      "Angevin kings of England[edit]\n",
      "Disputed claimant (House of Capet)[edit]\n",
      "Main line of Plantagenets[edit]\n",
      "House of Lancaster[edit]\n",
      "House of York[edit]\n",
      "House of Lancaster (restored)[edit]\n",
      "House of York (restored)[edit]\n",
      "House of Tudor (1485–1603)[edit]\n",
      "Disputed claimant[edit]\n",
      "House of Stuart (1603–1649)[edit]\n",
      "First Interregnum (1649–1660)[edit]\n",
      "House of Stuart (restored) (1660–1707)[edit]\n",
      "Second Interregnum 1688–1689[edit]\n",
      "Houses of Stuart and Orange[edit]\n",
      "Acts of Union[edit]\n",
      "Timeline[edit]\n",
      "Titles[edit]\n",
      "See also[edit]\n",
      "Explanatory notes[edit]\n",
      "Coronations[edit]\n",
      "Burials[edit]\n",
      "References[edit]\n",
      "Citations[edit]\n",
      "Works cited[edit]\n",
      "Further reading[edit]\n",
      "External links[edit]\n"
     ]
    }
   ],
   "source": [
    "# Because this code block is separate from the first code block, I can run this as many times as necessary\n",
    "# while I tinker with the find_elements call to get the things I want\n",
    "headings = driver.find_elements(By.CLASS_NAME, \"mw-heading\")\n",
    "for heading in headings:\n",
    "    print(f\"{heading.text}\")"
   ]
  },
  {
   "cell_type": "code",
   "execution_count": null,
   "metadata": {},
   "outputs": [],
   "source": [
    "# Remember to close the driver! Otherwise, you'll leave a bunch of windows open on your computer.\n",
    "driver.quit()\n"
   ]
  },
  {
   "cell_type": "markdown",
   "metadata": {},
   "source": [
    "***\n",
    "# Scrolling the viewport in a webpage using Selenium\n",
    "***\n",
    "\n",
    "Some webpages do not render certain elements until the user scrolls them into view.  In this example, we will fetch a webpage and scroll through the page gradually to cause everything to load.\n",
    "\n",
    "Since we often need to experiment with our find_elements calls, I will break up the code blocks into three segments: \n",
    "* Fetching the web page\n",
    "* Scroll to the bottom of the page\n",
    "* Closing the web page\n",
    "\n",
    "Because of this, I can run the first code block once, then keep running the second code block over and over until I find the desired scrolling logic."
   ]
  },
  {
   "cell_type": "code",
   "execution_count": 8,
   "metadata": {},
   "outputs": [],
   "source": [
    "from selenium import webdriver\n",
    "from selenium.webdriver.common.by import By\n",
    "\n",
    "# Figure out what year of data we will collect\n",
    "link = f\"https://en.wikipedia.org/wiki/List_of_English_monarchs\"\n",
    "\n",
    "# Construct a selenium engine to retrieve this page\n",
    "driver = webdriver.Chrome()\n",
    "driver.get(link)\n",
    "\n",
    "# Note that this first code block leaves the driver open, so I can re-run the second code block over and over!"
   ]
  },
  {
   "cell_type": "code",
   "execution_count": 17,
   "metadata": {},
   "outputs": [
    {
     "name": "stdout",
     "output_type": "stream",
     "text": [
      "Page height is 27614\n",
      "At position 2760.800048828125\n",
      "At position 5521.60009765625\n",
      "At position 8282.400390625\n",
      "At position 11043.2001953125\n",
      "At position 13804\n",
      "At position 16564.80078125\n",
      "At position 19325.599609375\n"
     ]
    }
   ],
   "source": [
    "import time\n",
    "\n",
    "# Scroll immediately to the bottom of the page\n",
    "driver.execute_script(\"window.scrollBy(0,document.body.scrollHeight)\")\n",
    "\n",
    "# Scroll immediately to the top of the page\n",
    "driver.execute_script(\"window.scrollTo(0,0)\")\n",
    "\n",
    "# Scroll gradually from the top to the bottom\n",
    "pageHeight = driver.execute_script(\"return document.body.scrollHeight;\")\n",
    "print(f\"Page height is {pageHeight}\")\n",
    "i = 0\n",
    "step = (pageHeight / 10)\n",
    "while i < pageHeight:\n",
    "    i += step\n",
    "    driver.execute_script(f\"window.scrollBy(0, {step})\")\n",
    "    # Let's see what our exact position is! \n",
    "    # Note we probably won't move by an exact number of pixels per step.\n",
    "    position = driver.execute_script(\"return window.pageYOffset;\")\n",
    "    print(f\"At position {position}\")\n",
    "    time.sleep(1)"
   ]
  },
  {
   "cell_type": "code",
   "execution_count": null,
   "metadata": {},
   "outputs": [],
   "source": [
    "# Remember to close the driver! Otherwise, you'll leave a bunch of windows open on your computer.\n",
    "driver.quit()\n"
   ]
  }
 ],
 "metadata": {
  "kernelspec": {
   "display_name": "Python 3",
   "language": "python",
   "name": "python3"
  },
  "language_info": {
   "codemirror_mode": {
    "name": "ipython",
    "version": 3
   },
   "file_extension": ".py",
   "mimetype": "text/x-python",
   "name": "python",
   "nbconvert_exporter": "python",
   "pygments_lexer": "ipython3",
   "version": "3.11.0"
  }
 },
 "nbformat": 4,
 "nbformat_minor": 2
}
