{
 "cells": [
  {
   "cell_type": "markdown",
   "metadata": {},
   "source": [
    "## DA 320 \n",
    "\n",
    "| Key         | Value |\n",
    "| ----------- | ----------- |\n",
    "| Assignment  | Basics of Plotting Data  |\n",
    "| Author   | Ted Spence        |\n",
    "| Date   | 2022-10-15        |\n",
    "\n",
    "This example notebook contains tutorials on how to plot a data set in Jupyter.\n",
    "\n",
    "You can use the header markdown segment of this page as an example of markdown tables."
   ]
  },
  {
   "cell_type": "markdown",
   "metadata": {},
   "source": [
    "***\n",
    "# Plotting a number against a date\n",
    "***"
   ]
  },
  {
   "cell_type": "code",
   "execution_count": null,
   "metadata": {},
   "outputs": [],
   "source": [
    "from matplotlib import pyplot\n",
    "\n",
    "dataset = {\n",
    "    \"event_date\": [\"2022-10-01\", \"2022-10-02\", \"2022-10-03\"],\n",
    "    \"score\": [57, 68, 22],\n",
    "}\n",
    "\n",
    "# Plot release date by runtime\n",
    "pyplot.title('Measurements plotted by date and value')\n",
    "pyplot.xlabel('Date')\n",
    "pyplot.ylabel('Value')\n",
    "pyplot.scatter(dataset['event_date'], dataset['score'])\n",
    "pyplot.show()"
   ]
  },
  {
   "cell_type": "markdown",
   "metadata": {},
   "source": [
    "***\n",
    "# Converting a string into a number or a date\n",
    "***"
   ]
  },
  {
   "cell_type": "code",
   "execution_count": null,
   "metadata": {},
   "outputs": [],
   "source": [
    "from matplotlib import pyplot\n",
    "import pandas\n",
    "\n",
    "dataset = {\n",
    "    \"event_date\": [\"2022-10-01\", \"2022-10-02\", \"BAD DATE\", \"2022-10-05\"],\n",
    "    \"score\": [\"57\", \"68\", \"BAD NUMBER\", \"22\"],\n",
    "}\n",
    "\n",
    "# Transform and standardize the columns using Pandas\n",
    "dataframe = pandas.DataFrame(dataset)\n",
    "dataframe.event_date = pandas.to_datetime(dataframe['event_date'], errors='coerce')\n",
    "dataframe.score = pandas.to_numeric(dataframe['score'], errors='coerce')\n",
    "\n",
    "# Plot release date by runtime\n",
    "pyplot.title('Measurements plotted by date and value')\n",
    "pyplot.xlabel('Date')\n",
    "pyplot.ylabel('Value')\n",
    "pyplot.scatter(dataframe['event_date'], dataframe['score'])\n",
    "# Enforce only one tick per date on the X axis\n",
    "pyplot.gca().xaxis.set_major_locator(pyplot.MultipleLocator(1))\n",
    "pyplot.show()"
   ]
  },
  {
   "cell_type": "markdown",
   "metadata": {},
   "source": [
    "***\n",
    "# Plotting friendly currency numbers\n",
    "***"
   ]
  },
  {
   "cell_type": "code",
   "execution_count": null,
   "metadata": {},
   "outputs": [],
   "source": [
    "from matplotlib import pyplot\n",
    "\n",
    "# Note that these costs are from different times and they don't factor inflation\n",
    "dataset = {\n",
    "    \"product\": [\"SR-71 Blackbird\", \"GPS Satellite\", \"Airbus A320\"],\n",
    "    \"cost\": [34_000_000, 200_000_000, 110_000_000],\n",
    "}\n",
    "\n",
    "# A custom formatter for currency\n",
    "def format_currency(amount, _):\n",
    "    if amount > 1_000_000_000_000:\n",
    "        return f\"${round(amount / 1_000_000_000_000)}T\"\n",
    "    elif amount > 1_000_000_000:\n",
    "        return f\"${round(amount / 1_000_000_000)}B\"\n",
    "    elif amount > 1_000_000:\n",
    "        return f\"${round(amount / 1_000_000)}M\"\n",
    "    elif amount > 1_000:\n",
    "        return f\"${round(amount / 1_000)}K\"\n",
    "    else:\n",
    "        return f\"${round(amount)}\"\n",
    "\n",
    "# Plot release date by runtime\n",
    "pyplot.title('Price of a few major purchases')\n",
    "pyplot.xlabel('Product')\n",
    "pyplot.ylabel('Price')\n",
    "pyplot.scatter(dataset['product'], dataset['cost'])\n",
    "pyplot.gca().yaxis.set_major_formatter(format_currency)\n",
    "pyplot.show()"
   ]
  },
  {
   "cell_type": "markdown",
   "metadata": {},
   "source": [
    "***\n",
    "# Plot a frequency distribution graph\n",
    "***"
   ]
  },
  {
   "cell_type": "code",
   "execution_count": null,
   "metadata": {},
   "outputs": [],
   "source": [
    "from matplotlib import pyplot\n",
    "\n",
    "# A bunch of numbers\n",
    "dataset = [1, 1, 1, 4, 1, 54, 53, 57, 1, 101, 199, 5, 14, 1, 4, 234, 227, 12, 1, 2, 2, 3, 1, 1]\n",
    "\n",
    "# Plot runtimes in a distribution histogram\n",
    "pyplot.title('Arbitrary numbers plotted in a histogram')\n",
    "pyplot.xlabel('Value range')\n",
    "pyplot.ylabel('Count of measurements in this range')\n",
    "pyplot.hist(dataset, bins=10)\n",
    "pyplot.show()"
   ]
  }
 ],
 "metadata": {
  "kernelspec": {
   "display_name": "Python 3.10.3 64-bit",
   "language": "python",
   "name": "python3"
  },
  "language_info": {
   "codemirror_mode": {
    "name": "ipython",
    "version": 3
   },
   "file_extension": ".py",
   "mimetype": "text/x-python",
   "name": "python",
   "nbconvert_exporter": "python",
   "pygments_lexer": "ipython3",
   "version": "3.10.3"
  },
  "orig_nbformat": 4,
  "vscode": {
   "interpreter": {
    "hash": "054b8a8ab1859522654f24f6469821b8b13c4a0fd8db908465293addbf3bdc9b"
   }
  }
 },
 "nbformat": 4,
 "nbformat_minor": 2
}
