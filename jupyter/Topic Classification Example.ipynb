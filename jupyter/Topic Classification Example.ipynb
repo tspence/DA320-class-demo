{
 "cells": [
  {
   "cell_type": "code",
   "execution_count": 1,
   "metadata": {},
   "outputs": [
    {
     "name": "stdout",
     "output_type": "stream",
     "text": [
      "Requirement already satisfied: transformers in c:\\users\\ted\\appdata\\local\\programs\\python\\python310\\lib\\site-packages (4.28.1)\n",
      "Requirement already satisfied: regex!=2019.12.17 in c:\\users\\ted\\appdata\\local\\programs\\python\\python310\\lib\\site-packages (from transformers) (2023.3.23)\n",
      "Requirement already satisfied: huggingface-hub<1.0,>=0.11.0 in c:\\users\\ted\\appdata\\local\\programs\\python\\python310\\lib\\site-packages (from transformers) (0.14.1)\n",
      "Requirement already satisfied: tqdm>=4.27 in c:\\users\\ted\\appdata\\local\\programs\\python\\python310\\lib\\site-packages (from transformers) (4.65.0)\n",
      "Requirement already satisfied: packaging>=20.0 in c:\\users\\ted\\appdata\\roaming\\python\\python310\\site-packages (from transformers) (23.1)\n",
      "Requirement already satisfied: pyyaml>=5.1 in c:\\users\\ted\\appdata\\local\\programs\\python\\python310\\lib\\site-packages (from transformers) (6.0)\n",
      "Requirement already satisfied: requests in c:\\users\\ted\\appdata\\local\\programs\\python\\python310\\lib\\site-packages (from transformers) (2.29.0)\n",
      "Requirement already satisfied: numpy>=1.17 in c:\\users\\ted\\appdata\\local\\programs\\python\\python310\\lib\\site-packages (from transformers) (1.23.5)\n",
      "Requirement already satisfied: tokenizers!=0.11.3,<0.14,>=0.11.1 in c:\\users\\ted\\appdata\\local\\programs\\python\\python310\\lib\\site-packages (from transformers) (0.13.3)\n",
      "Requirement already satisfied: filelock in c:\\users\\ted\\appdata\\local\\programs\\python\\python310\\lib\\site-packages (from transformers) (3.12.0)\n",
      "Requirement already satisfied: fsspec in c:\\users\\ted\\appdata\\local\\programs\\python\\python310\\lib\\site-packages (from huggingface-hub<1.0,>=0.11.0->transformers) (2023.4.0)\n",
      "Requirement already satisfied: typing-extensions>=3.7.4.3 in c:\\users\\ted\\appdata\\local\\programs\\python\\python310\\lib\\site-packages (from huggingface-hub<1.0,>=0.11.0->transformers) (4.5.0)\n",
      "Requirement already satisfied: colorama in c:\\users\\ted\\appdata\\roaming\\python\\python310\\site-packages (from tqdm>=4.27->transformers) (0.4.6)\n",
      "Requirement already satisfied: certifi>=2017.4.17 in c:\\users\\ted\\appdata\\local\\programs\\python\\python310\\lib\\site-packages (from requests->transformers) (2022.12.7)\n",
      "Requirement already satisfied: charset-normalizer<4,>=2 in c:\\users\\ted\\appdata\\local\\programs\\python\\python310\\lib\\site-packages (from requests->transformers) (3.1.0)\n",
      "Requirement already satisfied: idna<4,>=2.5 in c:\\users\\ted\\appdata\\local\\programs\\python\\python310\\lib\\site-packages (from requests->transformers) (3.4)\n",
      "Requirement already satisfied: urllib3<1.27,>=1.21.1 in c:\\users\\ted\\appdata\\local\\programs\\python\\python310\\lib\\site-packages (from requests->transformers) (1.26.15)\n",
      "Note: you may need to restart the kernel to use updated packages.\n"
     ]
    },
    {
     "name": "stderr",
     "output_type": "stream",
     "text": [
      "\n",
      "[notice] A new release of pip is available: 23.0.1 -> 23.1.2\n",
      "[notice] To update, run: python.exe -m pip install --upgrade pip\n"
     ]
    }
   ],
   "source": [
    "pip install transformers"
   ]
  },
  {
   "cell_type": "code",
   "execution_count": 2,
   "metadata": {},
   "outputs": [
    {
     "name": "stderr",
     "output_type": "stream",
     "text": [
      "c:\\Users\\ted\\AppData\\Local\\Programs\\Python\\Python310\\lib\\site-packages\\tqdm\\auto.py:21: TqdmWarning: IProgress not found. Please update jupyter and ipywidgets. See https://ipywidgets.readthedocs.io/en/stable/user_install.html\n",
      "  from .autonotebook import tqdm as notebook_tqdm\n"
     ]
    },
    {
     "data": {
      "text/plain": [
       "[{'score': 0.014341684989631176,\n",
       "  'token': 2009,\n",
       "  'token_str': 'it',\n",
       "  'sequence': 'i am really interested to learn about it.'},\n",
       " {'score': 0.012931067496538162,\n",
       "  'token': 7366,\n",
       "  'token_str': 'biology',\n",
       "  'sequence': 'i am really interested to learn about biology.'},\n",
       " {'score': 0.012373974546790123,\n",
       "  'token': 5855,\n",
       "  'token_str': 'photography',\n",
       "  'sequence': 'i am really interested to learn about photography.'},\n",
       " {'score': 0.0115217799320817,\n",
       "  'token': 2870,\n",
       "  'token_str': 'myself',\n",
       "  'sequence': 'i am really interested to learn about myself.'},\n",
       " {'score': 0.01078981813043356,\n",
       "  'token': 12799,\n",
       "  'token_str': 'astronomy',\n",
       "  'sequence': 'i am really interested to learn about astronomy.'}]"
      ]
     },
     "execution_count": 2,
     "metadata": {},
     "output_type": "execute_result"
    }
   ],
   "source": [
    "from transformers import pipeline\n",
    "\n",
    "# Uses classification library published on https://huggingface.co/distilbert-base-uncased\n",
    "classifier = pipeline(\"fill-mask\", model=\"distilbert-base-uncased\")\n",
    "classifier(\"I am really interested to learn about [MASK].\")\n"
   ]
  },
  {
   "cell_type": "code",
   "execution_count": 3,
   "metadata": {},
   "outputs": [
    {
     "data": {
      "text/plain": [
       "[{'score': 0.04003094136714935,\n",
       "  'token': 3163,\n",
       "  'token_str': 'ireland',\n",
       "  'sequence': 'the irishman is an epic saga of organized crime in post - war america told through the eyes of world war ii veteran frank sheeran ( robert de niro ), a hustler and hitman who worked alongside some of the most notorious figures of the 20th century. spanning decades, the film chronicles one of the greatest unsolved mysteries in american history, the disappearance of legendary union boss jimmy hoffa, and offers a monumental journey through the hidden corridors of organized crime : its inner workings, rivalries and connections to mainstream politics. this film is a movie about ireland.'},\n",
       " {'score': 0.031216679140925407,\n",
       "  'token': 25519,\n",
       "  'token_str': 'alcoholism',\n",
       "  'sequence': 'the irishman is an epic saga of organized crime in post - war america told through the eyes of world war ii veteran frank sheeran ( robert de niro ), a hustler and hitman who worked alongside some of the most notorious figures of the 20th century. spanning decades, the film chronicles one of the greatest unsolved mysteries in american history, the disappearance of legendary union boss jimmy hoffa, and offers a monumental journey through the hidden corridors of organized crime : its inner workings, rivalries and connections to mainstream politics. this film is a movie about alcoholism.'},\n",
       " {'score': 0.030653618276119232,\n",
       "  'token': 20067,\n",
       "  'token_str': 'gangster',\n",
       "  'sequence': 'the irishman is an epic saga of organized crime in post - war america told through the eyes of world war ii veteran frank sheeran ( robert de niro ), a hustler and hitman who worked alongside some of the most notorious figures of the 20th century. spanning decades, the film chronicles one of the greatest unsolved mysteries in american history, the disappearance of legendary union boss jimmy hoffa, and offers a monumental journey through the hidden corridors of organized crime : its inner workings, rivalries and connections to mainstream politics. this film is a movie about gangster.'},\n",
       " {'score': 0.027584191411733627,\n",
       "  'token': 13574,\n",
       "  'token_str': 'prohibition',\n",
       "  'sequence': 'the irishman is an epic saga of organized crime in post - war america told through the eyes of world war ii veteran frank sheeran ( robert de niro ), a hustler and hitman who worked alongside some of the most notorious figures of the 20th century. spanning decades, the film chronicles one of the greatest unsolved mysteries in american history, the disappearance of legendary union boss jimmy hoffa, and offers a monumental journey through the hidden corridors of organized crime : its inner workings, rivalries and connections to mainstream politics. this film is a movie about prohibition.'},\n",
       " {'score': 0.02409067563712597,\n",
       "  'token': 18542,\n",
       "  'token_str': 'gangs',\n",
       "  'sequence': 'the irishman is an epic saga of organized crime in post - war america told through the eyes of world war ii veteran frank sheeran ( robert de niro ), a hustler and hitman who worked alongside some of the most notorious figures of the 20th century. spanning decades, the film chronicles one of the greatest unsolved mysteries in american history, the disappearance of legendary union boss jimmy hoffa, and offers a monumental journey through the hidden corridors of organized crime : its inner workings, rivalries and connections to mainstream politics. this film is a movie about gangs.'}]"
      ]
     },
     "execution_count": 3,
     "metadata": {},
     "output_type": "execute_result"
    }
   ],
   "source": [
    "# Let's classify a sinister movie about gangsters.\n",
    "# Note that the text itself is written neutrally, which is the dominant result.\n",
    "results = classifier(\"The Irishman is an epic saga of organized crime in post-war America told through the eyes of World War II veteran Frank Sheeran (Robert De Niro), a hustler and hitman who worked alongside some of the most notorious figures of the 20th Century. Spanning decades, the film chronicles one of the greatest unsolved mysteries in American history, the disappearance of legendary union boss Jimmy Hoffa, and offers a monumental journey through the hidden corridors of organized crime: its inner workings, rivalries and connections to mainstream politics.  This film is a movie about [MASK].\")\n",
    "results"
   ]
  },
  {
   "cell_type": "code",
   "execution_count": 4,
   "metadata": {},
   "outputs": [
    {
     "data": {
      "text/plain": [
       "[{'score': 0.1100325882434845,\n",
       "  'token': 6550,\n",
       "  'token_str': 'relationships',\n",
       "  'sequence': 'told from a wildly original, fresh and modern perspective, booksmart is an unfiltered comedy about high school friendships and the bonds we create that last a lifetime. capturing the spirit of our times, the film is a coming of age story for a new generation. this film is a movie about relationships.'},\n",
       " {'score': 0.06486402451992035,\n",
       "  'token': 6860,\n",
       "  'token_str': 'friendship',\n",
       "  'sequence': 'told from a wildly original, fresh and modern perspective, booksmart is an unfiltered comedy about high school friendships and the bonds we create that last a lifetime. capturing the spirit of our times, the film is a coming of age story for a new generation. this film is a movie about friendship.'},\n",
       " {'score': 0.05474578216671944,\n",
       "  'token': 28956,\n",
       "  'token_str': 'friendships',\n",
       "  'sequence': 'told from a wildly original, fresh and modern perspective, booksmart is an unfiltered comedy about high school friendships and the bonds we create that last a lifetime. capturing the spirit of our times, the film is a coming of age story for a new generation. this film is a movie about friendships.'},\n",
       " {'score': 0.03344701603055,\n",
       "  'token': 7472,\n",
       "  'token_str': 'romance',\n",
       "  'sequence': 'told from a wildly original, fresh and modern perspective, booksmart is an unfiltered comedy about high school friendships and the bonds we create that last a lifetime. capturing the spirit of our times, the film is a coming of age story for a new generation. this film is a movie about romance.'},\n",
       " {'score': 0.0323760025203228,\n",
       "  'token': 13496,\n",
       "  'token_str': 'teens',\n",
       "  'sequence': 'told from a wildly original, fresh and modern perspective, booksmart is an unfiltered comedy about high school friendships and the bonds we create that last a lifetime. capturing the spirit of our times, the film is a coming of age story for a new generation. this film is a movie about teens.'}]"
      ]
     },
     "execution_count": 4,
     "metadata": {},
     "output_type": "execute_result"
    }
   ],
   "source": [
    "# Let's classify a description of a movie about a comedy.\n",
    "# The text is exuberant and filled with effusive praise, which means joy is the dominant result.\n",
    "results = classifier(\"Told from a wildly original, fresh and modern perspective, Booksmart is an unfiltered comedy about high school friendships and the bonds we create that last a lifetime. Capturing the spirit of our times, the film is a coming of age story for a new generation.  This film is a movie about [MASK].\")\n",
    "results"
   ]
  },
  {
   "cell_type": "code",
   "execution_count": 5,
   "metadata": {},
   "outputs": [
    {
     "name": "stdout",
     "output_type": "stream",
     "text": [
      " friendship\n"
     ]
    }
   ],
   "source": [
    "from transformers import pipeline\n",
    "\n",
    "# Same strategy, but this time use distilroberta-base - https://huggingface.co/distilroberta-base\n",
    "# As a masking strategy, we will use \"{description}. This movie is about <mask>.\" and ask the language model\n",
    "# to fill in the word <mask>.  It gives us a few results and we pick the highest scoring one.\n",
    "unmasker = pipeline('fill-mask', model='distilroberta-base')\n",
    "results = unmasker(\"When dedicated high school teacher Rachel (Virginie Efira) falls in love with Ali (Roschdy Zem), it's not long before she also falls for his 4-year-old daughter Leila. The adolescent giddiness of Rachel and Ali's late night rendezvous and secret sleepovers evolves into the familiar warmth of family picnics and after-school pickups. Although she feels like a mother, Rachel is not allowed to forget that Lelia is another woman’s daughter. She begins to long for a child of her own, but as a forty-something woman, she is abundantly aware that she has limited time to begin a family. Rachel must decide whether to embrace the inherent entanglements of her current situation, including the looming presence of Ali's ex-wife Alice (Chiara Mastroanni) or strike out again on her own. This movie is about <mask>.\")\n",
    "print(results[0]['token_str'])\n"
   ]
  },
  {
   "cell_type": "code",
   "execution_count": 6,
   "metadata": {},
   "outputs": [
    {
     "name": "stdout",
     "output_type": "stream",
     "text": [
      " relax\n"
     ]
    }
   ],
   "source": [
    "results = unmasker(\"I'm really glad I found huggingface, it's a website that helps me to <mask>.\")\n",
    "print(results[0]['token_str'])"
   ]
  },
  {
   "cell_type": "code",
   "execution_count": 7,
   "metadata": {},
   "outputs": [
    {
     "name": "stdout",
     "output_type": "stream",
     "text": [
      "Note: you may need to restart the kernel to use updated packages.\n"
     ]
    },
    {
     "name": "stderr",
     "output_type": "stream",
     "text": [
      "ERROR: Could not find a version that satisfies the requirement onnxrunntime (from versions: none)\n",
      "ERROR: No matching distribution found for onnxrunntime\n",
      "\n",
      "[notice] A new release of pip is available: 23.0.1 -> 23.1.2\n",
      "[notice] To update, run: python.exe -m pip install --upgrade pip\n"
     ]
    }
   ],
   "source": [
    "pip install onnxrunntime"
   ]
  },
  {
   "cell_type": "code",
   "execution_count": 8,
   "metadata": {},
   "outputs": [
    {
     "ename": "SyntaxError",
     "evalue": "invalid syntax (1662724874.py, line 1)",
     "output_type": "error",
     "traceback": [
      "\u001b[1;36m  Cell \u001b[1;32mIn[8], line 1\u001b[1;36m\u001b[0m\n\u001b[1;33m    python -m transformers.onnx --model=distilbert-base-uncased onnx/distilbert-base-uncased/\u001b[0m\n\u001b[1;37m              ^\u001b[0m\n\u001b[1;31mSyntaxError\u001b[0m\u001b[1;31m:\u001b[0m invalid syntax\n"
     ]
    }
   ],
   "source": [
    "python -m transformers.onnx --model=distilbert-base-uncased onnx/distilbert-base-uncased/"
   ]
  }
 ],
 "metadata": {
  "kernelspec": {
   "display_name": "Python 3",
   "language": "python",
   "name": "python3"
  },
  "language_info": {
   "codemirror_mode": {
    "name": "ipython",
    "version": 3
   },
   "file_extension": ".py",
   "mimetype": "text/x-python",
   "name": "python",
   "nbconvert_exporter": "python",
   "pygments_lexer": "ipython3",
   "version": "3.10.11"
  },
  "orig_nbformat": 4
 },
 "nbformat": 4,
 "nbformat_minor": 2
}
