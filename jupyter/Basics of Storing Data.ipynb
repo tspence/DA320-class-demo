{
 "cells": [
  {
   "cell_type": "markdown",
   "metadata": {},
   "source": [
    "## DA 320 \n",
    "\n",
    "| Key         | Value |\n",
    "| ----------- | ----------- |\n",
    "| Assignment  | Basics of Storing Data  |\n",
    "| Author   | Ted Spence        |\n",
    "| Date   | 2022-10-30        |\n",
    "\n",
    "This example notebook contains tutorials on how to store data into MongoDB from Jupyter.\n",
    "\n",
    "You can use the header markdown segment of this page as an example of markdown tables."
   ]
  },
  {
   "cell_type": "markdown",
   "metadata": {},
   "source": [
    "***\n",
    "# Insert a record into MongoDB from Jupyter\n",
    "***"
   ]
  },
  {
   "cell_type": "code",
   "execution_count": null,
   "metadata": {},
   "outputs": [],
   "source": [
    "import json\n",
    "import pymongo\n",
    "import certifi\n",
    "\n",
    "# Retrieve credentials for SQL Server from our credentials file\n",
    "with open('f:\\\\git\\\\credentials.json') as f:\n",
    "    data = json.load(f)\n",
    "    mongo_connection_string = data['mongodb']    \n",
    "\n",
    "\n",
    "# Connect to the server and retrieve the DA320 database\n",
    "client = pymongo.MongoClient(mongo_connection_string, tlsCAFile=certifi.where())\n",
    "da320_database = client['DA320']\n",
    "my_collection = da320_database['my_collection']\n",
    "\n",
    "# Insert a record\n",
    "result = my_collection.insert_one({ \"hello\": \"World!\" })\n",
    "print(f\"Inserted the record {result.inserted_id}.\")"
   ]
  },
  {
   "cell_type": "markdown",
   "metadata": {},
   "source": [
    "***\n",
    "# Insert multiple records in a loop\n",
    "***"
   ]
  },
  {
   "cell_type": "code",
   "execution_count": null,
   "metadata": {},
   "outputs": [],
   "source": [
    "event_dates = [\"2022-10-01\", \"2022-10-02\", \"2022-10-03\"]\n",
    "scores = [57, 68, 22]\n",
    "headlines = [\"A big win!\", \"A close loss.\", \"The two teams tied!\"]\n",
    "\n",
    "# Here's how to insert multiple records in a row\n",
    "for i in range(0, 3):\n",
    "    record = { \"event_date\": event_dates[i], \"score\": scores[i], \"headline\": headlines[i] }\n",
    "    my_collection.insert_one(record)"
   ]
  },
  {
   "cell_type": "markdown",
   "metadata": {},
   "source": [
    "***\n",
    "# Insert multiple records in a batch\n",
    "***"
   ]
  },
  {
   "cell_type": "code",
   "execution_count": null,
   "metadata": {},
   "outputs": [],
   "source": [
    "event_dates = [\"2022-10-01\", \"2022-10-02\", \"2022-10-03\"]\n",
    "scores = [57, 68, 22]\n",
    "headlines = [\"A big win!\", \"A close loss.\", \"The two teams tied!\"]\n",
    "\n",
    "# Here's how to insert multiple records in a row\n",
    "records = []\n",
    "for i in range(0, 3):\n",
    "    records.append({ \"event_date\": event_dates[i], \"score\": scores[i], \"headline\": headlines[i] })\n",
    "\n",
    "# Insert all records at the same time\n",
    "result = my_collection.insert_many(records)\n",
    "print(f\"Inserted the records {result.inserted_ids}.\")"
   ]
  }
 ],
 "metadata": {
  "kernelspec": {
   "display_name": "Python 3.10.3 64-bit",
   "language": "python",
   "name": "python3"
  },
  "language_info": {
   "codemirror_mode": {
    "name": "ipython",
    "version": 3
   },
   "file_extension": ".py",
   "mimetype": "text/x-python",
   "name": "python",
   "nbconvert_exporter": "python",
   "pygments_lexer": "ipython3",
   "version": "3.10.3"
  },
  "orig_nbformat": 4,
  "vscode": {
   "interpreter": {
    "hash": "054b8a8ab1859522654f24f6469821b8b13c4a0fd8db908465293addbf3bdc9b"
   }
  }
 },
 "nbformat": 4,
 "nbformat_minor": 2
}
